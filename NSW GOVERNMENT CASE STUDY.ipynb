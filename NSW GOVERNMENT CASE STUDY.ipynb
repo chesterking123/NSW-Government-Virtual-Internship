{
 "cells": [
  {
   "cell_type": "markdown",
   "metadata": {},
   "source": [
    "# NSW PART-TIME JOB ANALYSIS\n",
    "Word Done as part of the NSW Govt. virtual internship"
   ]
  },
  {
   "cell_type": "markdown",
   "metadata": {},
   "source": [
    "## About The Data\n"
   ]
  },
  {
   "cell_type": "markdown",
   "metadata": {},
   "source": [
    "\n",
    "Glossary:\n",
    "\n",
    "Sector or Public Sector\t : The term for the collective Agencies/people who directly work for the NSW State Government\n",
    "\n",
    "Cluster\t: A group of agencies that share a common function and report to a secretary\n",
    "\n",
    "Headcount :\tThe number of employees\n",
    "\n",
    "pp :\tPercentage Point\n",
    "\n",
    "Tips: \n",
    "Break each part of the request down to its data parts, label each part, and then work on the parts separately before combining them into a data narrative\n",
    "\n",
    "The two attached sheets contain the same data: the first sheet presents the data in a table, while the second presents data in a format suitable for analysis using a PivotTable\n",
    "\n",
    "Don't merge cells, it makes an excel file non-accessible to people with disabilities who use screen reader programs"
   ]
  },
  {
   "cell_type": "markdown",
   "metadata": {},
   "source": [
    "## Tasks"
   ]
  },
  {
   "cell_type": "markdown",
   "metadata": {},
   "source": [
    "You have been asked to prepare analysis on part-time employees to brief your Director prior to a meeting they are attending with the Workforce Diversity Steering Committee to review whether part-time employment arrangements are increasing.\n",
    "\n",
    "Please provide:\n",
    "\n",
    "•Trends over time in male and female employment, including any notable changes\n",
    "\n",
    "•The current representation of part time employees in the sector and in each Cluster\n",
    "\n",
    "•The current representation of male and female part time employees as a proportion of the respective male and the female workforce in the sector and in each cluster\n",
    "\n",
    "•Change in these two above statistics over the last 4 years\n",
    "\n",
    "•Projection of what the representation will be by 2025 if the current trends continue\n",
    "\n",
    "Part 2:\n",
    "\n",
    "Please prepare a discussion paper (maximum 4 A4 pages of content or 6 presentation slides) of your analysis that would be suitable for a Director to use as a discussion aid in a meeting with senior executives. You must include tables or charts that illustrate your findings.\n",
    "\n",
    "“This work has the potential to influence the direction of a sector wide target, so it needs to be of the highest quality ...”"
   ]
  },
  {
   "cell_type": "code",
   "execution_count": 260,
   "metadata": {},
   "outputs": [],
   "source": [
    "import pandas as pd\n",
    "import numpy as np\n",
    "import matplotlib.pyplot as plt\n",
    "import seaborn as sns"
   ]
  },
  {
   "cell_type": "code",
   "execution_count": 261,
   "metadata": {},
   "outputs": [
    {
     "data": {
      "text/html": [
       "<style type=\"text/css\">\n",
       "table.dataframe td, table.dataframe th {\n",
       "    border: 1px  black solid !important;\n",
       "  color: black !important;\n",
       "}\n",
       "</style>\n"
      ],
      "text/plain": [
       "<IPython.core.display.HTML object>"
      ]
     },
     "metadata": {},
     "output_type": "display_data"
    }
   ],
   "source": [
    "%%HTML\n",
    "<style type=\"text/css\">\n",
    "table.dataframe td, table.dataframe th {\n",
    "    border: 1px  black solid !important;\n",
    "  color: black !important;\n",
    "}\n",
    "</style>"
   ]
  },
  {
   "cell_type": "code",
   "execution_count": 262,
   "metadata": {},
   "outputs": [],
   "source": [
    "data = pd.read_csv('data.csv')\n",
    "data = data.replace(',','', regex=True)\n",
    "data = data.astype({'Headcount':int})"
   ]
  },
  {
   "cell_type": "code",
   "execution_count": 263,
   "metadata": {},
   "outputs": [
    {
     "data": {
      "text/html": [
       "<div>\n",
       "<style scoped>\n",
       "    .dataframe tbody tr th:only-of-type {\n",
       "        vertical-align: middle;\n",
       "    }\n",
       "\n",
       "    .dataframe tbody tr th {\n",
       "        vertical-align: top;\n",
       "    }\n",
       "\n",
       "    .dataframe thead th {\n",
       "        text-align: right;\n",
       "    }\n",
       "</style>\n",
       "<table border=\"1\" class=\"dataframe\">\n",
       "  <thead>\n",
       "    <tr style=\"text-align: right;\">\n",
       "      <th></th>\n",
       "      <th>Cluster</th>\n",
       "      <th>Agency</th>\n",
       "      <th>Year</th>\n",
       "      <th>PT/FT</th>\n",
       "      <th>Gender</th>\n",
       "      <th>Headcount</th>\n",
       "    </tr>\n",
       "  </thead>\n",
       "  <tbody>\n",
       "    <tr>\n",
       "      <td>0</td>\n",
       "      <td>Education</td>\n",
       "      <td>Education Agency 1</td>\n",
       "      <td>2014</td>\n",
       "      <td>Full-Time</td>\n",
       "      <td>Female</td>\n",
       "      <td>180</td>\n",
       "    </tr>\n",
       "    <tr>\n",
       "      <td>1</td>\n",
       "      <td>Education</td>\n",
       "      <td>Education Agency 2</td>\n",
       "      <td>2014</td>\n",
       "      <td>Full-Time</td>\n",
       "      <td>Female</td>\n",
       "      <td>2463</td>\n",
       "    </tr>\n",
       "    <tr>\n",
       "      <td>2</td>\n",
       "      <td>Education</td>\n",
       "      <td>Education Agency 3</td>\n",
       "      <td>2014</td>\n",
       "      <td>Full-Time</td>\n",
       "      <td>Female</td>\n",
       "      <td>32</td>\n",
       "    </tr>\n",
       "    <tr>\n",
       "      <td>3</td>\n",
       "      <td>Education</td>\n",
       "      <td>Education Agency 4</td>\n",
       "      <td>2014</td>\n",
       "      <td>Full-Time</td>\n",
       "      <td>Female</td>\n",
       "      <td>39251</td>\n",
       "    </tr>\n",
       "    <tr>\n",
       "      <td>4</td>\n",
       "      <td>Family &amp; Community Services</td>\n",
       "      <td>Family &amp; Community Services Agency 1</td>\n",
       "      <td>2014</td>\n",
       "      <td>Full-Time</td>\n",
       "      <td>Female</td>\n",
       "      <td>9817</td>\n",
       "    </tr>\n",
       "  </tbody>\n",
       "</table>\n",
       "</div>"
      ],
      "text/plain": [
       "                       Cluster                                Agency  Year  \\\n",
       "0                    Education                    Education Agency 1  2014   \n",
       "1                    Education                    Education Agency 2  2014   \n",
       "2                    Education                    Education Agency 3  2014   \n",
       "3                    Education                    Education Agency 4  2014   \n",
       "4  Family & Community Services  Family & Community Services Agency 1  2014   \n",
       "\n",
       "       PT/FT  Gender  Headcount  \n",
       "0  Full-Time  Female        180  \n",
       "1  Full-Time  Female       2463  \n",
       "2  Full-Time  Female         32  \n",
       "3  Full-Time  Female      39251  \n",
       "4  Full-Time  Female       9817  "
      ]
     },
     "execution_count": 263,
     "metadata": {},
     "output_type": "execute_result"
    }
   ],
   "source": [
    "data.head()"
   ]
  },
  {
   "cell_type": "code",
   "execution_count": 264,
   "metadata": {},
   "outputs": [
    {
     "name": "stdout",
     "output_type": "stream",
     "text": [
      "Clusters :  ['Education' 'Family & Community Services' 'Finance Services & Innovation'\n",
      " 'Health' 'Industry' 'Justice' 'Planning & Environment'\n",
      " 'Premier & Cabinet' 'Transport' 'Treasury']\n",
      "Years :  [2014 2015 2016 2017 2018]\n",
      "Job Type : ['Full-Time' 'Part-Time']\n",
      "Gender : ['Female' 'Male']\n"
     ]
    }
   ],
   "source": [
    "print('Clusters : ',data['Cluster'].unique())\n",
    "print('Years : ' , data['Year'].unique())\n",
    "print('Job Type :' , data['PT/FT'].unique())\n",
    "print('Gender :', data['Gender'].unique())"
   ]
  },
  {
   "cell_type": "code",
   "execution_count": 265,
   "metadata": {},
   "outputs": [
    {
     "data": {
      "text/html": [
       "<div>\n",
       "<style scoped>\n",
       "    .dataframe tbody tr th:only-of-type {\n",
       "        vertical-align: middle;\n",
       "    }\n",
       "\n",
       "    .dataframe tbody tr th {\n",
       "        vertical-align: top;\n",
       "    }\n",
       "\n",
       "    .dataframe thead th {\n",
       "        text-align: right;\n",
       "    }\n",
       "</style>\n",
       "<table border=\"1\" class=\"dataframe\">\n",
       "  <thead>\n",
       "    <tr style=\"text-align: right;\">\n",
       "      <th></th>\n",
       "      <th>Year</th>\n",
       "      <th>Headcount</th>\n",
       "    </tr>\n",
       "  </thead>\n",
       "  <tbody>\n",
       "    <tr>\n",
       "      <td>count</td>\n",
       "      <td>1840.000000</td>\n",
       "      <td>1840.000000</td>\n",
       "    </tr>\n",
       "    <tr>\n",
       "      <td>mean</td>\n",
       "      <td>2016.000000</td>\n",
       "      <td>1028.171739</td>\n",
       "    </tr>\n",
       "    <tr>\n",
       "      <td>std</td>\n",
       "      <td>1.414598</td>\n",
       "      <td>3003.876102</td>\n",
       "    </tr>\n",
       "    <tr>\n",
       "      <td>min</td>\n",
       "      <td>2014.000000</td>\n",
       "      <td>5.000000</td>\n",
       "    </tr>\n",
       "    <tr>\n",
       "      <td>25%</td>\n",
       "      <td>2015.000000</td>\n",
       "      <td>20.000000</td>\n",
       "    </tr>\n",
       "    <tr>\n",
       "      <td>50%</td>\n",
       "      <td>2016.000000</td>\n",
       "      <td>113.500000</td>\n",
       "    </tr>\n",
       "    <tr>\n",
       "      <td>75%</td>\n",
       "      <td>2017.000000</td>\n",
       "      <td>746.250000</td>\n",
       "    </tr>\n",
       "    <tr>\n",
       "      <td>max</td>\n",
       "      <td>2018.000000</td>\n",
       "      <td>41521.000000</td>\n",
       "    </tr>\n",
       "  </tbody>\n",
       "</table>\n",
       "</div>"
      ],
      "text/plain": [
       "              Year     Headcount\n",
       "count  1840.000000   1840.000000\n",
       "mean   2016.000000   1028.171739\n",
       "std       1.414598   3003.876102\n",
       "min    2014.000000      5.000000\n",
       "25%    2015.000000     20.000000\n",
       "50%    2016.000000    113.500000\n",
       "75%    2017.000000    746.250000\n",
       "max    2018.000000  41521.000000"
      ]
     },
     "execution_count": 265,
     "metadata": {},
     "output_type": "execute_result"
    }
   ],
   "source": [
    "data.describe()"
   ]
  },
  {
   "cell_type": "code",
   "execution_count": 266,
   "metadata": {},
   "outputs": [],
   "source": [
    "maledata = data[data['Gender']=='Male']"
   ]
  },
  {
   "cell_type": "code",
   "execution_count": 267,
   "metadata": {},
   "outputs": [
    {
     "data": {
      "text/html": [
       "<div>\n",
       "<style scoped>\n",
       "    .dataframe tbody tr th:only-of-type {\n",
       "        vertical-align: middle;\n",
       "    }\n",
       "\n",
       "    .dataframe tbody tr th {\n",
       "        vertical-align: top;\n",
       "    }\n",
       "\n",
       "    .dataframe thead th {\n",
       "        text-align: right;\n",
       "    }\n",
       "</style>\n",
       "<table border=\"1\" class=\"dataframe\">\n",
       "  <thead>\n",
       "    <tr style=\"text-align: right;\">\n",
       "      <th></th>\n",
       "      <th>Cluster</th>\n",
       "      <th>Agency</th>\n",
       "      <th>Year</th>\n",
       "      <th>PT/FT</th>\n",
       "      <th>Gender</th>\n",
       "      <th>Headcount</th>\n",
       "    </tr>\n",
       "  </thead>\n",
       "  <tbody>\n",
       "    <tr>\n",
       "      <td>92</td>\n",
       "      <td>Education</td>\n",
       "      <td>Education Agency 1</td>\n",
       "      <td>2014</td>\n",
       "      <td>Full-Time</td>\n",
       "      <td>Male</td>\n",
       "      <td>107</td>\n",
       "    </tr>\n",
       "    <tr>\n",
       "      <td>93</td>\n",
       "      <td>Education</td>\n",
       "      <td>Education Agency 2</td>\n",
       "      <td>2014</td>\n",
       "      <td>Full-Time</td>\n",
       "      <td>Male</td>\n",
       "      <td>2797</td>\n",
       "    </tr>\n",
       "    <tr>\n",
       "      <td>94</td>\n",
       "      <td>Education</td>\n",
       "      <td>Education Agency 3</td>\n",
       "      <td>2014</td>\n",
       "      <td>Full-Time</td>\n",
       "      <td>Male</td>\n",
       "      <td>6</td>\n",
       "    </tr>\n",
       "    <tr>\n",
       "      <td>95</td>\n",
       "      <td>Education</td>\n",
       "      <td>Education Agency 4</td>\n",
       "      <td>2014</td>\n",
       "      <td>Full-Time</td>\n",
       "      <td>Male</td>\n",
       "      <td>16463</td>\n",
       "    </tr>\n",
       "    <tr>\n",
       "      <td>96</td>\n",
       "      <td>Family &amp; Community Services</td>\n",
       "      <td>Family &amp; Community Services Agency 1</td>\n",
       "      <td>2014</td>\n",
       "      <td>Full-Time</td>\n",
       "      <td>Male</td>\n",
       "      <td>3803</td>\n",
       "    </tr>\n",
       "  </tbody>\n",
       "</table>\n",
       "</div>"
      ],
      "text/plain": [
       "                        Cluster                                Agency  Year  \\\n",
       "92                    Education                    Education Agency 1  2014   \n",
       "93                    Education                    Education Agency 2  2014   \n",
       "94                    Education                    Education Agency 3  2014   \n",
       "95                    Education                    Education Agency 4  2014   \n",
       "96  Family & Community Services  Family & Community Services Agency 1  2014   \n",
       "\n",
       "        PT/FT Gender  Headcount  \n",
       "92  Full-Time   Male        107  \n",
       "93  Full-Time   Male       2797  \n",
       "94  Full-Time   Male          6  \n",
       "95  Full-Time   Male      16463  \n",
       "96  Full-Time   Male       3803  "
      ]
     },
     "execution_count": 267,
     "metadata": {},
     "output_type": "execute_result"
    }
   ],
   "source": [
    "maledata.head()"
   ]
  },
  {
   "cell_type": "code",
   "execution_count": 268,
   "metadata": {},
   "outputs": [],
   "source": [
    "femaledata = data[data['Gender']=='Female']"
   ]
  },
  {
   "cell_type": "code",
   "execution_count": 269,
   "metadata": {},
   "outputs": [
    {
     "data": {
      "text/html": [
       "<div>\n",
       "<style scoped>\n",
       "    .dataframe tbody tr th:only-of-type {\n",
       "        vertical-align: middle;\n",
       "    }\n",
       "\n",
       "    .dataframe tbody tr th {\n",
       "        vertical-align: top;\n",
       "    }\n",
       "\n",
       "    .dataframe thead th {\n",
       "        text-align: right;\n",
       "    }\n",
       "</style>\n",
       "<table border=\"1\" class=\"dataframe\">\n",
       "  <thead>\n",
       "    <tr style=\"text-align: right;\">\n",
       "      <th></th>\n",
       "      <th>Cluster</th>\n",
       "      <th>Agency</th>\n",
       "      <th>Year</th>\n",
       "      <th>PT/FT</th>\n",
       "      <th>Gender</th>\n",
       "      <th>Headcount</th>\n",
       "    </tr>\n",
       "  </thead>\n",
       "  <tbody>\n",
       "    <tr>\n",
       "      <td>0</td>\n",
       "      <td>Education</td>\n",
       "      <td>Education Agency 1</td>\n",
       "      <td>2014</td>\n",
       "      <td>Full-Time</td>\n",
       "      <td>Female</td>\n",
       "      <td>180</td>\n",
       "    </tr>\n",
       "    <tr>\n",
       "      <td>1</td>\n",
       "      <td>Education</td>\n",
       "      <td>Education Agency 2</td>\n",
       "      <td>2014</td>\n",
       "      <td>Full-Time</td>\n",
       "      <td>Female</td>\n",
       "      <td>2463</td>\n",
       "    </tr>\n",
       "    <tr>\n",
       "      <td>2</td>\n",
       "      <td>Education</td>\n",
       "      <td>Education Agency 3</td>\n",
       "      <td>2014</td>\n",
       "      <td>Full-Time</td>\n",
       "      <td>Female</td>\n",
       "      <td>32</td>\n",
       "    </tr>\n",
       "    <tr>\n",
       "      <td>3</td>\n",
       "      <td>Education</td>\n",
       "      <td>Education Agency 4</td>\n",
       "      <td>2014</td>\n",
       "      <td>Full-Time</td>\n",
       "      <td>Female</td>\n",
       "      <td>39251</td>\n",
       "    </tr>\n",
       "    <tr>\n",
       "      <td>4</td>\n",
       "      <td>Family &amp; Community Services</td>\n",
       "      <td>Family &amp; Community Services Agency 1</td>\n",
       "      <td>2014</td>\n",
       "      <td>Full-Time</td>\n",
       "      <td>Female</td>\n",
       "      <td>9817</td>\n",
       "    </tr>\n",
       "  </tbody>\n",
       "</table>\n",
       "</div>"
      ],
      "text/plain": [
       "                       Cluster                                Agency  Year  \\\n",
       "0                    Education                    Education Agency 1  2014   \n",
       "1                    Education                    Education Agency 2  2014   \n",
       "2                    Education                    Education Agency 3  2014   \n",
       "3                    Education                    Education Agency 4  2014   \n",
       "4  Family & Community Services  Family & Community Services Agency 1  2014   \n",
       "\n",
       "       PT/FT  Gender  Headcount  \n",
       "0  Full-Time  Female        180  \n",
       "1  Full-Time  Female       2463  \n",
       "2  Full-Time  Female         32  \n",
       "3  Full-Time  Female      39251  \n",
       "4  Full-Time  Female       9817  "
      ]
     },
     "execution_count": 269,
     "metadata": {},
     "output_type": "execute_result"
    }
   ],
   "source": [
    "femaledata.head()"
   ]
  },
  {
   "cell_type": "code",
   "execution_count": 270,
   "metadata": {},
   "outputs": [],
   "source": [
    "ft_maledata = maledata[maledata['PT/FT']=='Full-Time']\n",
    "pt_maledata = maledata[maledata['PT/FT']=='Part-Time']\n",
    "ft_femaledata = femaledata[femaledata['PT/FT']=='Full-Time']\n",
    "pt_femaledata = femaledata[femaledata['PT/FT']=='Part-Time']"
   ]
  },
  {
   "cell_type": "markdown",
   "metadata": {},
   "source": [
    "## Trends over time in male and female employment, including any notable changes"
   ]
  },
  {
   "cell_type": "code",
   "execution_count": 271,
   "metadata": {},
   "outputs": [],
   "source": [
    "trend_ftmaledata = ft_maledata.groupby(['Year'], as_index = False)['Headcount'].sum()"
   ]
  },
  {
   "cell_type": "code",
   "execution_count": 272,
   "metadata": {},
   "outputs": [
    {
     "data": {
      "text/html": [
       "<div>\n",
       "<style scoped>\n",
       "    .dataframe tbody tr th:only-of-type {\n",
       "        vertical-align: middle;\n",
       "    }\n",
       "\n",
       "    .dataframe tbody tr th {\n",
       "        vertical-align: top;\n",
       "    }\n",
       "\n",
       "    .dataframe thead th {\n",
       "        text-align: right;\n",
       "    }\n",
       "</style>\n",
       "<table border=\"1\" class=\"dataframe\">\n",
       "  <thead>\n",
       "    <tr style=\"text-align: right;\">\n",
       "      <th></th>\n",
       "      <th>Year</th>\n",
       "      <th>Headcount</th>\n",
       "    </tr>\n",
       "  </thead>\n",
       "  <tbody>\n",
       "    <tr>\n",
       "      <td>0</td>\n",
       "      <td>2014</td>\n",
       "      <td>123614</td>\n",
       "    </tr>\n",
       "    <tr>\n",
       "      <td>1</td>\n",
       "      <td>2015</td>\n",
       "      <td>118504</td>\n",
       "    </tr>\n",
       "    <tr>\n",
       "      <td>2</td>\n",
       "      <td>2016</td>\n",
       "      <td>117976</td>\n",
       "    </tr>\n",
       "    <tr>\n",
       "      <td>3</td>\n",
       "      <td>2017</td>\n",
       "      <td>114962</td>\n",
       "    </tr>\n",
       "    <tr>\n",
       "      <td>4</td>\n",
       "      <td>2018</td>\n",
       "      <td>111377</td>\n",
       "    </tr>\n",
       "  </tbody>\n",
       "</table>\n",
       "</div>"
      ],
      "text/plain": [
       "   Year  Headcount\n",
       "0  2014     123614\n",
       "1  2015     118504\n",
       "2  2016     117976\n",
       "3  2017     114962\n",
       "4  2018     111377"
      ]
     },
     "execution_count": 272,
     "metadata": {},
     "output_type": "execute_result"
    }
   ],
   "source": [
    "trend_ftmaledata"
   ]
  },
  {
   "cell_type": "code",
   "execution_count": 273,
   "metadata": {},
   "outputs": [],
   "source": [
    "trend_ftfemaledata = ft_femaledata.groupby(['Year'], as_index = False)['Headcount'].sum()"
   ]
  },
  {
   "cell_type": "code",
   "execution_count": 274,
   "metadata": {},
   "outputs": [
    {
     "data": {
      "text/html": [
       "<div>\n",
       "<style scoped>\n",
       "    .dataframe tbody tr th:only-of-type {\n",
       "        vertical-align: middle;\n",
       "    }\n",
       "\n",
       "    .dataframe tbody tr th {\n",
       "        vertical-align: top;\n",
       "    }\n",
       "\n",
       "    .dataframe thead th {\n",
       "        text-align: right;\n",
       "    }\n",
       "</style>\n",
       "<table border=\"1\" class=\"dataframe\">\n",
       "  <thead>\n",
       "    <tr style=\"text-align: right;\">\n",
       "      <th></th>\n",
       "      <th>Year</th>\n",
       "      <th>Headcount</th>\n",
       "    </tr>\n",
       "  </thead>\n",
       "  <tbody>\n",
       "    <tr>\n",
       "      <td>0</td>\n",
       "      <td>2014</td>\n",
       "      <td>156793</td>\n",
       "    </tr>\n",
       "    <tr>\n",
       "      <td>1</td>\n",
       "      <td>2015</td>\n",
       "      <td>152038</td>\n",
       "    </tr>\n",
       "    <tr>\n",
       "      <td>2</td>\n",
       "      <td>2016</td>\n",
       "      <td>154489</td>\n",
       "    </tr>\n",
       "    <tr>\n",
       "      <td>3</td>\n",
       "      <td>2017</td>\n",
       "      <td>155408</td>\n",
       "    </tr>\n",
       "    <tr>\n",
       "      <td>4</td>\n",
       "      <td>2018</td>\n",
       "      <td>155833</td>\n",
       "    </tr>\n",
       "  </tbody>\n",
       "</table>\n",
       "</div>"
      ],
      "text/plain": [
       "   Year  Headcount\n",
       "0  2014     156793\n",
       "1  2015     152038\n",
       "2  2016     154489\n",
       "3  2017     155408\n",
       "4  2018     155833"
      ]
     },
     "execution_count": 274,
     "metadata": {},
     "output_type": "execute_result"
    }
   ],
   "source": [
    "trend_ftfemaledata"
   ]
  },
  {
   "cell_type": "code",
   "execution_count": 275,
   "metadata": {},
   "outputs": [],
   "source": [
    "trend_ptmaledata = pt_maledata.groupby(['Year'], as_index = False)['Headcount'].sum()"
   ]
  },
  {
   "cell_type": "code",
   "execution_count": 276,
   "metadata": {},
   "outputs": [
    {
     "data": {
      "text/html": [
       "<div>\n",
       "<style scoped>\n",
       "    .dataframe tbody tr th:only-of-type {\n",
       "        vertical-align: middle;\n",
       "    }\n",
       "\n",
       "    .dataframe tbody tr th {\n",
       "        vertical-align: top;\n",
       "    }\n",
       "\n",
       "    .dataframe thead th {\n",
       "        text-align: right;\n",
       "    }\n",
       "</style>\n",
       "<table border=\"1\" class=\"dataframe\">\n",
       "  <thead>\n",
       "    <tr style=\"text-align: right;\">\n",
       "      <th></th>\n",
       "      <th>Year</th>\n",
       "      <th>Headcount</th>\n",
       "    </tr>\n",
       "  </thead>\n",
       "  <tbody>\n",
       "    <tr>\n",
       "      <td>0</td>\n",
       "      <td>2014</td>\n",
       "      <td>13995</td>\n",
       "    </tr>\n",
       "    <tr>\n",
       "      <td>1</td>\n",
       "      <td>2015</td>\n",
       "      <td>14302</td>\n",
       "    </tr>\n",
       "    <tr>\n",
       "      <td>2</td>\n",
       "      <td>2016</td>\n",
       "      <td>14678</td>\n",
       "    </tr>\n",
       "    <tr>\n",
       "      <td>3</td>\n",
       "      <td>2017</td>\n",
       "      <td>18706</td>\n",
       "    </tr>\n",
       "    <tr>\n",
       "      <td>4</td>\n",
       "      <td>2018</td>\n",
       "      <td>22034</td>\n",
       "    </tr>\n",
       "  </tbody>\n",
       "</table>\n",
       "</div>"
      ],
      "text/plain": [
       "   Year  Headcount\n",
       "0  2014      13995\n",
       "1  2015      14302\n",
       "2  2016      14678\n",
       "3  2017      18706\n",
       "4  2018      22034"
      ]
     },
     "execution_count": 276,
     "metadata": {},
     "output_type": "execute_result"
    }
   ],
   "source": [
    "trend_ptmaledata"
   ]
  },
  {
   "cell_type": "code",
   "execution_count": 277,
   "metadata": {},
   "outputs": [],
   "source": [
    "trend_ptfemaledata = pt_femaledata.groupby(['Year'], as_index = False)['Headcount'].sum()"
   ]
  },
  {
   "cell_type": "code",
   "execution_count": 278,
   "metadata": {},
   "outputs": [
    {
     "data": {
      "text/html": [
       "<div>\n",
       "<style scoped>\n",
       "    .dataframe tbody tr th:only-of-type {\n",
       "        vertical-align: middle;\n",
       "    }\n",
       "\n",
       "    .dataframe tbody tr th {\n",
       "        vertical-align: top;\n",
       "    }\n",
       "\n",
       "    .dataframe thead th {\n",
       "        text-align: right;\n",
       "    }\n",
       "</style>\n",
       "<table border=\"1\" class=\"dataframe\">\n",
       "  <thead>\n",
       "    <tr style=\"text-align: right;\">\n",
       "      <th></th>\n",
       "      <th>Year</th>\n",
       "      <th>Headcount</th>\n",
       "    </tr>\n",
       "  </thead>\n",
       "  <tbody>\n",
       "    <tr>\n",
       "      <td>0</td>\n",
       "      <td>2014</td>\n",
       "      <td>87983</td>\n",
       "    </tr>\n",
       "    <tr>\n",
       "      <td>1</td>\n",
       "      <td>2015</td>\n",
       "      <td>89943</td>\n",
       "    </tr>\n",
       "    <tr>\n",
       "      <td>2</td>\n",
       "      <td>2016</td>\n",
       "      <td>88264</td>\n",
       "    </tr>\n",
       "    <tr>\n",
       "      <td>3</td>\n",
       "      <td>2017</td>\n",
       "      <td>90721</td>\n",
       "    </tr>\n",
       "    <tr>\n",
       "      <td>4</td>\n",
       "      <td>2018</td>\n",
       "      <td>90216</td>\n",
       "    </tr>\n",
       "  </tbody>\n",
       "</table>\n",
       "</div>"
      ],
      "text/plain": [
       "   Year  Headcount\n",
       "0  2014      87983\n",
       "1  2015      89943\n",
       "2  2016      88264\n",
       "3  2017      90721\n",
       "4  2018      90216"
      ]
     },
     "execution_count": 278,
     "metadata": {},
     "output_type": "execute_result"
    }
   ],
   "source": [
    "trend_ptfemaledata"
   ]
  },
  {
   "cell_type": "code",
   "execution_count": 279,
   "metadata": {},
   "outputs": [],
   "source": [
    "trendforft = trend_ftmaledata.merge(trend_ftfemaledata, on=\"Year\", left_index=True, right_index=True)\n",
    "#trendforft.set_index('Year', inplace=True)\n",
    "trendforft.columns=['Year','Male','Female']"
   ]
  },
  {
   "cell_type": "code",
   "execution_count": 280,
   "metadata": {},
   "outputs": [
    {
     "data": {
      "text/html": [
       "<div>\n",
       "<style scoped>\n",
       "    .dataframe tbody tr th:only-of-type {\n",
       "        vertical-align: middle;\n",
       "    }\n",
       "\n",
       "    .dataframe tbody tr th {\n",
       "        vertical-align: top;\n",
       "    }\n",
       "\n",
       "    .dataframe thead th {\n",
       "        text-align: right;\n",
       "    }\n",
       "</style>\n",
       "<table border=\"1\" class=\"dataframe\">\n",
       "  <thead>\n",
       "    <tr style=\"text-align: right;\">\n",
       "      <th></th>\n",
       "      <th>Year</th>\n",
       "      <th>Male</th>\n",
       "      <th>Female</th>\n",
       "    </tr>\n",
       "  </thead>\n",
       "  <tbody>\n",
       "    <tr>\n",
       "      <td>0</td>\n",
       "      <td>2014</td>\n",
       "      <td>123614</td>\n",
       "      <td>156793</td>\n",
       "    </tr>\n",
       "    <tr>\n",
       "      <td>1</td>\n",
       "      <td>2015</td>\n",
       "      <td>118504</td>\n",
       "      <td>152038</td>\n",
       "    </tr>\n",
       "    <tr>\n",
       "      <td>2</td>\n",
       "      <td>2016</td>\n",
       "      <td>117976</td>\n",
       "      <td>154489</td>\n",
       "    </tr>\n",
       "    <tr>\n",
       "      <td>3</td>\n",
       "      <td>2017</td>\n",
       "      <td>114962</td>\n",
       "      <td>155408</td>\n",
       "    </tr>\n",
       "    <tr>\n",
       "      <td>4</td>\n",
       "      <td>2018</td>\n",
       "      <td>111377</td>\n",
       "      <td>155833</td>\n",
       "    </tr>\n",
       "  </tbody>\n",
       "</table>\n",
       "</div>"
      ],
      "text/plain": [
       "   Year    Male  Female\n",
       "0  2014  123614  156793\n",
       "1  2015  118504  152038\n",
       "2  2016  117976  154489\n",
       "3  2017  114962  155408\n",
       "4  2018  111377  155833"
      ]
     },
     "execution_count": 280,
     "metadata": {},
     "output_type": "execute_result"
    }
   ],
   "source": [
    "trendforft"
   ]
  },
  {
   "cell_type": "code",
   "execution_count": 281,
   "metadata": {},
   "outputs": [],
   "source": [
    "trendforpt = trend_ptmaledata.merge(trend_ptfemaledata, on=\"Year\", left_index=True, right_index=True)\n",
    "#trendforpt.set_index('Year', inplace=True)\n",
    "trendforpt.columns=['Year','Male','Female']"
   ]
  },
  {
   "cell_type": "code",
   "execution_count": 282,
   "metadata": {},
   "outputs": [
    {
     "data": {
      "text/html": [
       "<div>\n",
       "<style scoped>\n",
       "    .dataframe tbody tr th:only-of-type {\n",
       "        vertical-align: middle;\n",
       "    }\n",
       "\n",
       "    .dataframe tbody tr th {\n",
       "        vertical-align: top;\n",
       "    }\n",
       "\n",
       "    .dataframe thead th {\n",
       "        text-align: right;\n",
       "    }\n",
       "</style>\n",
       "<table border=\"1\" class=\"dataframe\">\n",
       "  <thead>\n",
       "    <tr style=\"text-align: right;\">\n",
       "      <th></th>\n",
       "      <th>Year</th>\n",
       "      <th>Male</th>\n",
       "      <th>Female</th>\n",
       "    </tr>\n",
       "  </thead>\n",
       "  <tbody>\n",
       "    <tr>\n",
       "      <td>0</td>\n",
       "      <td>2014</td>\n",
       "      <td>13995</td>\n",
       "      <td>87983</td>\n",
       "    </tr>\n",
       "    <tr>\n",
       "      <td>1</td>\n",
       "      <td>2015</td>\n",
       "      <td>14302</td>\n",
       "      <td>89943</td>\n",
       "    </tr>\n",
       "    <tr>\n",
       "      <td>2</td>\n",
       "      <td>2016</td>\n",
       "      <td>14678</td>\n",
       "      <td>88264</td>\n",
       "    </tr>\n",
       "    <tr>\n",
       "      <td>3</td>\n",
       "      <td>2017</td>\n",
       "      <td>18706</td>\n",
       "      <td>90721</td>\n",
       "    </tr>\n",
       "    <tr>\n",
       "      <td>4</td>\n",
       "      <td>2018</td>\n",
       "      <td>22034</td>\n",
       "      <td>90216</td>\n",
       "    </tr>\n",
       "  </tbody>\n",
       "</table>\n",
       "</div>"
      ],
      "text/plain": [
       "   Year   Male  Female\n",
       "0  2014  13995   87983\n",
       "1  2015  14302   89943\n",
       "2  2016  14678   88264\n",
       "3  2017  18706   90721\n",
       "4  2018  22034   90216"
      ]
     },
     "execution_count": 282,
     "metadata": {},
     "output_type": "execute_result"
    }
   ],
   "source": [
    "trendforpt"
   ]
  },
  {
   "cell_type": "markdown",
   "metadata": {},
   "source": [
    "Headcount_x = male | \n",
    "Headcount_y = female"
   ]
  },
  {
   "cell_type": "code",
   "execution_count": 283,
   "metadata": {},
   "outputs": [
    {
     "data": {
      "image/png": "[encoded data removed]",
      "text/plain": [
       "<Figure size 432x288 with 2 Axes>"
      ]
     },
     "metadata": {
      "needs_background": "light"
     },
     "output_type": "display_data"
    }
   ],
   "source": [
    "fig,ax = plt.subplots()\n",
    "# make a plot\n",
    "ax.plot(trendforft['Year'], trendforft['Male'], color=\"red\", marker=\"o\")\n",
    "# set x-axis label\n",
    "ax.set_xlabel(\"year\",fontsize=14)\n",
    "# set y-axis label\n",
    "ax.set_ylabel(\"Male Emp\",color=\"red\",fontsize=14)\n",
    "# twin object for two different y-axis on the sample plot\n",
    "ax2=ax.twinx()\n",
    "# make a plot with different y-axis using second axis object\n",
    "ax2.plot(trendforft['Year'], trendforft['Female'],color=\"blue\",marker=\"o\")\n",
    "ax2.set_ylabel(\"Female Emp\",color=\"blue\",fontsize=14)\n",
    "plt.title('Male and Female Employee Trend in Full Time Jobs')\n",
    "plt.show()\n"
   ]
  },
  {
   "cell_type": "code",
   "execution_count": 284,
   "metadata": {},
   "outputs": [
    {
     "data": {
      "image/png": "[encoded data removed]",
      "text/plain": [
       "<Figure size 432x288 with 2 Axes>"
      ]
     },
     "metadata": {
      "needs_background": "light"
     },
     "output_type": "display_data"
    }
   ],
   "source": [
    "fig,ax = plt.subplots()\n",
    "# make a plot\n",
    "ax.plot(trendforpt['Year'], trendforpt['Male'], color=\"red\", marker=\"o\")\n",
    "# set x-axis label\n",
    "ax.set_xlabel(\"year\",fontsize=14)\n",
    "# set y-axis label\n",
    "ax.set_ylabel(\"Male Emp\",color=\"red\",fontsize=14)\n",
    "# twin object for two different y-axis on the sample plot\n",
    "ax2=ax.twinx()\n",
    "# make a plot with different y-axis using second axis object\n",
    "ax2.plot(trendforpt['Year'], trendforpt['Female'],color=\"blue\",marker=\"o\")\n",
    "ax2.set_ylabel(\"Female Emp\",color=\"blue\",fontsize=14)\n",
    "plt.title('Male and Female Employee Trend in Part Time Jobs')\n",
    "plt.show()"
   ]
  },
  {
   "cell_type": "markdown",
   "metadata": {},
   "source": [
    "# The current representation of part time employees in the sector and in each Cluster"
   ]
  },
  {
   "cell_type": "code",
   "execution_count": 289,
   "metadata": {},
   "outputs": [],
   "source": [
    "curr_rep = data[(data['Year']==2018) & (data['PT/FT']=='Part-Time')]"
   ]
  },
  {
   "cell_type": "code",
   "execution_count": 290,
   "metadata": {},
   "outputs": [],
   "source": [
    "curr_rep = curr_rep.groupby('Cluster')['Headcount'].sum()"
   ]
  },
  {
   "cell_type": "code",
   "execution_count": 291,
   "metadata": {},
   "outputs": [],
   "source": [
    "curr_rep = curr_rep.to_frame()\n",
    "curr_rep = curr_rep.reset_index()\n",
    "curr_rep.columns = ['Cluster','Count'] "
   ]
  },
  {
   "cell_type": "code",
   "execution_count": 292,
   "metadata": {},
   "outputs": [
    {
     "data": {
      "text/html": [
       "<div>\n",
       "<style scoped>\n",
       "    .dataframe tbody tr th:only-of-type {\n",
       "        vertical-align: middle;\n",
       "    }\n",
       "\n",
       "    .dataframe tbody tr th {\n",
       "        vertical-align: top;\n",
       "    }\n",
       "\n",
       "    .dataframe thead th {\n",
       "        text-align: right;\n",
       "    }\n",
       "</style>\n",
       "<table border=\"1\" class=\"dataframe\">\n",
       "  <thead>\n",
       "    <tr style=\"text-align: right;\">\n",
       "      <th></th>\n",
       "      <th>Cluster</th>\n",
       "      <th>Count</th>\n",
       "    </tr>\n",
       "  </thead>\n",
       "  <tbody>\n",
       "    <tr>\n",
       "      <td>0</td>\n",
       "      <td>Education</td>\n",
       "      <td>47939</td>\n",
       "    </tr>\n",
       "    <tr>\n",
       "      <td>1</td>\n",
       "      <td>Family &amp; Community Services</td>\n",
       "      <td>1512</td>\n",
       "    </tr>\n",
       "    <tr>\n",
       "      <td>2</td>\n",
       "      <td>Finance Services &amp; Innovation</td>\n",
       "      <td>2058</td>\n",
       "    </tr>\n",
       "    <tr>\n",
       "      <td>3</td>\n",
       "      <td>Health</td>\n",
       "      <td>48500</td>\n",
       "    </tr>\n",
       "    <tr>\n",
       "      <td>4</td>\n",
       "      <td>Industry</td>\n",
       "      <td>813</td>\n",
       "    </tr>\n",
       "    <tr>\n",
       "      <td>5</td>\n",
       "      <td>Justice</td>\n",
       "      <td>5021</td>\n",
       "    </tr>\n",
       "    <tr>\n",
       "      <td>6</td>\n",
       "      <td>Planning &amp; Environment</td>\n",
       "      <td>1553</td>\n",
       "    </tr>\n",
       "    <tr>\n",
       "      <td>7</td>\n",
       "      <td>Premier &amp; Cabinet</td>\n",
       "      <td>363</td>\n",
       "    </tr>\n",
       "    <tr>\n",
       "      <td>8</td>\n",
       "      <td>Transport</td>\n",
       "      <td>4343</td>\n",
       "    </tr>\n",
       "    <tr>\n",
       "      <td>9</td>\n",
       "      <td>Treasury</td>\n",
       "      <td>148</td>\n",
       "    </tr>\n",
       "  </tbody>\n",
       "</table>\n",
       "</div>"
      ],
      "text/plain": [
       "                         Cluster  Count\n",
       "0                      Education  47939\n",
       "1    Family & Community Services   1512\n",
       "2  Finance Services & Innovation   2058\n",
       "3                         Health  48500\n",
       "4                       Industry    813\n",
       "5                        Justice   5021\n",
       "6         Planning & Environment   1553\n",
       "7              Premier & Cabinet    363\n",
       "8                      Transport   4343\n",
       "9                       Treasury    148"
      ]
     },
     "execution_count": 292,
     "metadata": {},
     "output_type": "execute_result"
    }
   ],
   "source": [
    "curr_rep"
   ]
  },
  {
   "cell_type": "code",
   "execution_count": 293,
   "metadata": {},
   "outputs": [
    {
     "data": {
      "text/plain": [
       "Text(0.5, 0, 'Count')"
      ]
     },
     "execution_count": 293,
     "metadata": {},
     "output_type": "execute_result"
    },
    {
     "data": {
      "image/png": "[encoded data removed]",
      "text/plain": [
       "<Figure size 720x504 with 1 Axes>"
      ]
     },
     "metadata": {
      "needs_background": "light"
     },
     "output_type": "display_data"
    }
   ],
   "source": [
    "ax = plt.subplots(figsize=(10, 7))\n",
    "ax = sns.barplot(x='Count', y='Cluster', data=curr_rep)\n",
    "ax.set_title(\"Part Time Job Employees in 2018\")\n",
    "ax.set_xlabel('Count')"
   ]
  },
  {
   "cell_type": "code",
   "execution_count": 294,
   "metadata": {},
   "outputs": [
    {
     "name": "stdout",
     "output_type": "stream",
     "text": [
      "Total number of part time emloyees in the year 2018 :  112250\n"
     ]
    }
   ],
   "source": [
    "print(\"Total number of part time emloyees in the year 2018 : \", curr_rep['Count'].sum())"
   ]
  },
  {
   "cell_type": "markdown",
   "metadata": {},
   "source": [
    "#  The current representation of male and female part time employees as a proportion of the respective male and the female workforce in the sector and in each cluster"
   ]
  },
  {
   "cell_type": "code",
   "execution_count": 295,
   "metadata": {},
   "outputs": [],
   "source": [
    "ptcluster_male = pt_maledata[pt_maledata['Year'] == 2018]\n",
    "ptcluster_male = ptcluster_male.groupby(['Cluster'])['Headcount'].sum()"
   ]
  },
  {
   "cell_type": "code",
   "execution_count": 296,
   "metadata": {},
   "outputs": [
    {
     "data": {
      "text/html": [
       "<div>\n",
       "<style scoped>\n",
       "    .dataframe tbody tr th:only-of-type {\n",
       "        vertical-align: middle;\n",
       "    }\n",
       "\n",
       "    .dataframe tbody tr th {\n",
       "        vertical-align: top;\n",
       "    }\n",
       "\n",
       "    .dataframe thead th {\n",
       "        text-align: right;\n",
       "    }\n",
       "</style>\n",
       "<table border=\"1\" class=\"dataframe\">\n",
       "  <thead>\n",
       "    <tr style=\"text-align: right;\">\n",
       "      <th></th>\n",
       "      <th>Cluster</th>\n",
       "      <th>Count</th>\n",
       "    </tr>\n",
       "  </thead>\n",
       "  <tbody>\n",
       "    <tr>\n",
       "      <td>0</td>\n",
       "      <td>Education</td>\n",
       "      <td>8783</td>\n",
       "    </tr>\n",
       "    <tr>\n",
       "      <td>1</td>\n",
       "      <td>Family &amp; Community Services</td>\n",
       "      <td>113</td>\n",
       "    </tr>\n",
       "    <tr>\n",
       "      <td>2</td>\n",
       "      <td>Finance Services &amp; Innovation</td>\n",
       "      <td>690</td>\n",
       "    </tr>\n",
       "    <tr>\n",
       "      <td>3</td>\n",
       "      <td>Health</td>\n",
       "      <td>7498</td>\n",
       "    </tr>\n",
       "    <tr>\n",
       "      <td>4</td>\n",
       "      <td>Industry</td>\n",
       "      <td>114</td>\n",
       "    </tr>\n",
       "    <tr>\n",
       "      <td>5</td>\n",
       "      <td>Justice</td>\n",
       "      <td>1447</td>\n",
       "    </tr>\n",
       "    <tr>\n",
       "      <td>6</td>\n",
       "      <td>Planning &amp; Environment</td>\n",
       "      <td>302</td>\n",
       "    </tr>\n",
       "    <tr>\n",
       "      <td>7</td>\n",
       "      <td>Premier &amp; Cabinet</td>\n",
       "      <td>71</td>\n",
       "    </tr>\n",
       "    <tr>\n",
       "      <td>8</td>\n",
       "      <td>Transport</td>\n",
       "      <td>2998</td>\n",
       "    </tr>\n",
       "    <tr>\n",
       "      <td>9</td>\n",
       "      <td>Treasury</td>\n",
       "      <td>18</td>\n",
       "    </tr>\n",
       "  </tbody>\n",
       "</table>\n",
       "</div>"
      ],
      "text/plain": [
       "                         Cluster  Count\n",
       "0                      Education   8783\n",
       "1    Family & Community Services    113\n",
       "2  Finance Services & Innovation    690\n",
       "3                         Health   7498\n",
       "4                       Industry    114\n",
       "5                        Justice   1447\n",
       "6         Planning & Environment    302\n",
       "7              Premier & Cabinet     71\n",
       "8                      Transport   2998\n",
       "9                       Treasury     18"
      ]
     },
     "execution_count": 296,
     "metadata": {},
     "output_type": "execute_result"
    }
   ],
   "source": [
    "ptcluster_male = ptcluster_male.to_frame()\n",
    "ptcluster_male = ptcluster_male.reset_index()\n",
    "ptcluster_male.columns = ['Cluster', 'Count']\n",
    "ptcluster_male"
   ]
  },
  {
   "cell_type": "code",
   "execution_count": 318,
   "metadata": {},
   "outputs": [],
   "source": [
    "ptcluster_female = pt_femaledata[pt_femaledata['Year'] == 2018]\n",
    "ptcluster_female = ptcluster_female.groupby('Cluster')['Headcount'].sum()"
   ]
  },
  {
   "cell_type": "code",
   "execution_count": 319,
   "metadata": {},
   "outputs": [
    {
     "data": {
      "text/html": [
       "<div>\n",
       "<style scoped>\n",
       "    .dataframe tbody tr th:only-of-type {\n",
       "        vertical-align: middle;\n",
       "    }\n",
       "\n",
       "    .dataframe tbody tr th {\n",
       "        vertical-align: top;\n",
       "    }\n",
       "\n",
       "    .dataframe thead th {\n",
       "        text-align: right;\n",
       "    }\n",
       "</style>\n",
       "<table border=\"1\" class=\"dataframe\">\n",
       "  <thead>\n",
       "    <tr style=\"text-align: right;\">\n",
       "      <th></th>\n",
       "      <th>Cluster</th>\n",
       "      <th>Count</th>\n",
       "    </tr>\n",
       "  </thead>\n",
       "  <tbody>\n",
       "    <tr>\n",
       "      <td>0</td>\n",
       "      <td>Education</td>\n",
       "      <td>39156</td>\n",
       "    </tr>\n",
       "    <tr>\n",
       "      <td>1</td>\n",
       "      <td>Family &amp; Community Services</td>\n",
       "      <td>1399</td>\n",
       "    </tr>\n",
       "    <tr>\n",
       "      <td>2</td>\n",
       "      <td>Finance Services &amp; Innovation</td>\n",
       "      <td>1368</td>\n",
       "    </tr>\n",
       "    <tr>\n",
       "      <td>3</td>\n",
       "      <td>Health</td>\n",
       "      <td>41002</td>\n",
       "    </tr>\n",
       "    <tr>\n",
       "      <td>4</td>\n",
       "      <td>Industry</td>\n",
       "      <td>699</td>\n",
       "    </tr>\n",
       "    <tr>\n",
       "      <td>5</td>\n",
       "      <td>Justice</td>\n",
       "      <td>3574</td>\n",
       "    </tr>\n",
       "    <tr>\n",
       "      <td>6</td>\n",
       "      <td>Planning &amp; Environment</td>\n",
       "      <td>1251</td>\n",
       "    </tr>\n",
       "    <tr>\n",
       "      <td>7</td>\n",
       "      <td>Premier &amp; Cabinet</td>\n",
       "      <td>292</td>\n",
       "    </tr>\n",
       "    <tr>\n",
       "      <td>8</td>\n",
       "      <td>Transport</td>\n",
       "      <td>1345</td>\n",
       "    </tr>\n",
       "    <tr>\n",
       "      <td>9</td>\n",
       "      <td>Treasury</td>\n",
       "      <td>130</td>\n",
       "    </tr>\n",
       "  </tbody>\n",
       "</table>\n",
       "</div>"
      ],
      "text/plain": [
       "                         Cluster  Count\n",
       "0                      Education  39156\n",
       "1    Family & Community Services   1399\n",
       "2  Finance Services & Innovation   1368\n",
       "3                         Health  41002\n",
       "4                       Industry    699\n",
       "5                        Justice   3574\n",
       "6         Planning & Environment   1251\n",
       "7              Premier & Cabinet    292\n",
       "8                      Transport   1345\n",
       "9                       Treasury    130"
      ]
     },
     "execution_count": 319,
     "metadata": {},
     "output_type": "execute_result"
    }
   ],
   "source": [
    "ptcluster_female = ptcluster_female.to_frame()\n",
    "ptcluster_female = ptcluster_female.reset_index()\n",
    "ptcluster_female.columns = ['Cluster', 'Count']\n",
    "ptcluster_female"
   ]
  },
  {
   "cell_type": "code",
   "execution_count": 299,
   "metadata": {},
   "outputs": [
    {
     "data": {
      "text/html": [
       "<style  type=\"text/css\" >\n",
       "</style><table id=\"T_e83e0e7e_ad71_11ea_9d85_107b4434e6eb\" ><thead>    <tr>        <th class=\"col_heading level0 col0\" >Gender</th>        <th class=\"col_heading level0 col1\" >Part-Time Count (2018)</th>        <th class=\"col_heading level0 col2\" >Percent</th>    </tr></thead><tbody>\n",
       "                <tr>\n",
       "                                <td id=\"T_e83e0e7e_ad71_11ea_9d85_107b4434e6ebrow0_col0\" class=\"data row0 col0\" >Male</td>\n",
       "                        <td id=\"T_e83e0e7e_ad71_11ea_9d85_107b4434e6ebrow0_col1\" class=\"data row0 col1\" >22034</td>\n",
       "                        <td id=\"T_e83e0e7e_ad71_11ea_9d85_107b4434e6ebrow0_col2\" class=\"data row0 col2\" >19.6294</td>\n",
       "            </tr>\n",
       "            <tr>\n",
       "                                <td id=\"T_e83e0e7e_ad71_11ea_9d85_107b4434e6ebrow1_col0\" class=\"data row1 col0\" >Female</td>\n",
       "                        <td id=\"T_e83e0e7e_ad71_11ea_9d85_107b4434e6ebrow1_col1\" class=\"data row1 col1\" >90216</td>\n",
       "                        <td id=\"T_e83e0e7e_ad71_11ea_9d85_107b4434e6ebrow1_col2\" class=\"data row1 col2\" >80.3706</td>\n",
       "            </tr>\n",
       "    </tbody></table>"
      ],
      "text/plain": [
       "<pandas.io.formats.style.Styler at 0x1c67d323f08>"
      ]
     },
     "execution_count": 299,
     "metadata": {},
     "output_type": "execute_result"
    }
   ],
   "source": [
    "parttime_male = ptcluster_male['Count'].sum()\n",
    "parttime_female = ptcluster_female['Count'].sum()\n",
    "\n",
    "pt_df = {\n",
    "    'Gender' : ['Male','Female'],\n",
    "    'Part-Time Count (2018)' : [parttime_male,parttime_female],\n",
    "    'Percent' : [parttime_male/(parttime_female+parttime_male)*100,parttime_female/(parttime_female+parttime_male)*100]\n",
    "}\n",
    "\n",
    "MvF = pd.DataFrame(data = pt_df)\n",
    "MvF.style.hide_index()\n"
   ]
  },
  {
   "cell_type": "code",
   "execution_count": 300,
   "metadata": {},
   "outputs": [
    {
     "data": {
      "text/plain": [
       "Text(0.5, 0, 'Count')"
      ]
     },
     "execution_count": 300,
     "metadata": {},
     "output_type": "execute_result"
    },
    {
     "data": {
      "image/png": "[encoded data removed]",
      "text/plain": [
       "<Figure size 720x504 with 1 Axes>"
      ]
     },
     "metadata": {
      "needs_background": "light"
     },
     "output_type": "display_data"
    }
   ],
   "source": [
    "ax = plt.subplots(figsize=(10, 7))\n",
    "ax = sns.barplot(x='Count', y='Cluster', data=ptcluster_male)\n",
    "ax.set_title(\"Part Time Job For Male Employees in 2018\")\n",
    "ax.set_xlabel('Count')"
   ]
  },
  {
   "cell_type": "code",
   "execution_count": 301,
   "metadata": {},
   "outputs": [
    {
     "data": {
      "image/png": "[encoded data removed]",
      "text/plain": [
       "<Figure size 504x504 with 1 Axes>"
      ]
     },
     "metadata": {},
     "output_type": "display_data"
    }
   ],
   "source": [
    "from matplotlib import pyplot as plt\n",
    "import numpy as np\n",
    "count = ptcluster_male['Count']\n",
    "cluster = ptcluster_male['Cluster']\n",
    "fig = plt.figure(figsize=(7,7))\n",
    "ax = fig.add_axes([1,1,1,1])\n",
    "ax.set_title(\"Part Time Job For Male Employees in 2018\")\n",
    "ax.pie(count, labels = cluster,autopct='%1.2f%%')\n",
    "plt.show()"
   ]
  },
  {
   "cell_type": "code",
   "execution_count": 302,
   "metadata": {},
   "outputs": [
    {
     "data": {
      "text/plain": [
       "Text(0.5, 0, 'Count')"
      ]
     },
     "execution_count": 302,
     "metadata": {},
     "output_type": "execute_result"
    },
    {
     "data": {
      "image/png": "[encoded data removed]",
      "text/plain": [
       "<Figure size 720x504 with 1 Axes>"
      ]
     },
     "metadata": {
      "needs_background": "light"
     },
     "output_type": "display_data"
    }
   ],
   "source": [
    "ax = plt.subplots(figsize=(10, 7))\n",
    "ax = sns.barplot(x='Count', y='Cluster', data=ptcluster_female)\n",
    "ax.set_title(\"Part Time Job For Female Employees in 2018\")\n",
    "ax.set_xlabel('Count')"
   ]
  },
  {
   "cell_type": "code",
   "execution_count": 303,
   "metadata": {},
   "outputs": [
    {
     "data": {
      "image/png": "[encoded data removed]",
      "text/plain": [
       "<Figure size 504x504 with 1 Axes>"
      ]
     },
     "metadata": {},
     "output_type": "display_data"
    }
   ],
   "source": [
    "from matplotlib import pyplot as plt\n",
    "import numpy as np\n",
    "fig = plt.figure(figsize=(7,7))\n",
    "count = ptcluster_female['Count']\n",
    "cluster = ptcluster_female['Cluster']\n",
    "ax = fig.add_axes([0,0,1,1])\n",
    "ax.set_title(\"Part Time Job For Female Employees in 2018\")\n",
    "ax.pie(count, labels = cluster,autopct='%1.2f%%')\n",
    "plt.show()"
   ]
  },
  {
   "cell_type": "markdown",
   "metadata": {},
   "source": [
    "# Representation of Male, Female Part-Time Employees: Trends, Forecast¶\n"
   ]
  },
  {
   "cell_type": "markdown",
   "metadata": {},
   "source": [
    "## Change in these two above statistics over the last 4 years\n"
   ]
  },
  {
   "cell_type": "code",
   "execution_count": 330,
   "metadata": {},
   "outputs": [],
   "source": [
    "testdf = data[data['PT/FT']=='Part-time']\n",
    "testdf = data.groupby(['Cluster','Year','Gender'],as_index=False)['Headcount'].sum()\n",
    "testdf2 = testdf[testdf['Year']==2018]\n",
    "testdf2 = testdf2.groupby(['Cluster','Gender'],as_index=False)['Headcount'].sum()"
   ]
  },
  {
   "cell_type": "code",
   "execution_count": 331,
   "metadata": {},
   "outputs": [
    {
     "data": {
      "text/html": [
       "<div>\n",
       "<style scoped>\n",
       "    .dataframe tbody tr th:only-of-type {\n",
       "        vertical-align: middle;\n",
       "    }\n",
       "\n",
       "    .dataframe tbody tr th {\n",
       "        vertical-align: top;\n",
       "    }\n",
       "\n",
       "    .dataframe thead th {\n",
       "        text-align: right;\n",
       "    }\n",
       "</style>\n",
       "<table border=\"1\" class=\"dataframe\">\n",
       "  <thead>\n",
       "    <tr style=\"text-align: right;\">\n",
       "      <th></th>\n",
       "      <th>Cluster</th>\n",
       "      <th>Gender</th>\n",
       "      <th>Headcount</th>\n",
       "    </tr>\n",
       "  </thead>\n",
       "  <tbody>\n",
       "    <tr>\n",
       "      <td>0</td>\n",
       "      <td>Education</td>\n",
       "      <td>Female</td>\n",
       "      <td>83603</td>\n",
       "    </tr>\n",
       "    <tr>\n",
       "      <td>1</td>\n",
       "      <td>Education</td>\n",
       "      <td>Male</td>\n",
       "      <td>24851</td>\n",
       "    </tr>\n",
       "    <tr>\n",
       "      <td>2</td>\n",
       "      <td>Family &amp; Community Services</td>\n",
       "      <td>Female</td>\n",
       "      <td>8267</td>\n",
       "    </tr>\n",
       "    <tr>\n",
       "      <td>3</td>\n",
       "      <td>Family &amp; Community Services</td>\n",
       "      <td>Male</td>\n",
       "      <td>2409</td>\n",
       "    </tr>\n",
       "    <tr>\n",
       "      <td>4</td>\n",
       "      <td>Finance Services &amp; Innovation</td>\n",
       "      <td>Female</td>\n",
       "      <td>5062</td>\n",
       "    </tr>\n",
       "    <tr>\n",
       "      <td>5</td>\n",
       "      <td>Finance Services &amp; Innovation</td>\n",
       "      <td>Male</td>\n",
       "      <td>3456</td>\n",
       "    </tr>\n",
       "    <tr>\n",
       "      <td>6</td>\n",
       "      <td>Health</td>\n",
       "      <td>Female</td>\n",
       "      <td>108662</td>\n",
       "    </tr>\n",
       "    <tr>\n",
       "      <td>7</td>\n",
       "      <td>Health</td>\n",
       "      <td>Male</td>\n",
       "      <td>37650</td>\n",
       "    </tr>\n",
       "    <tr>\n",
       "      <td>8</td>\n",
       "      <td>Industry</td>\n",
       "      <td>Female</td>\n",
       "      <td>6438</td>\n",
       "    </tr>\n",
       "    <tr>\n",
       "      <td>9</td>\n",
       "      <td>Industry</td>\n",
       "      <td>Male</td>\n",
       "      <td>5764</td>\n",
       "    </tr>\n",
       "    <tr>\n",
       "      <td>10</td>\n",
       "      <td>Justice</td>\n",
       "      <td>Female</td>\n",
       "      <td>18975</td>\n",
       "    </tr>\n",
       "    <tr>\n",
       "      <td>11</td>\n",
       "      <td>Justice</td>\n",
       "      <td>Male</td>\n",
       "      <td>28523</td>\n",
       "    </tr>\n",
       "    <tr>\n",
       "      <td>12</td>\n",
       "      <td>Planning &amp; Environment</td>\n",
       "      <td>Female</td>\n",
       "      <td>5065</td>\n",
       "    </tr>\n",
       "    <tr>\n",
       "      <td>13</td>\n",
       "      <td>Planning &amp; Environment</td>\n",
       "      <td>Male</td>\n",
       "      <td>5882</td>\n",
       "    </tr>\n",
       "    <tr>\n",
       "      <td>14</td>\n",
       "      <td>Premier &amp; Cabinet</td>\n",
       "      <td>Female</td>\n",
       "      <td>1678</td>\n",
       "    </tr>\n",
       "    <tr>\n",
       "      <td>15</td>\n",
       "      <td>Premier &amp; Cabinet</td>\n",
       "      <td>Male</td>\n",
       "      <td>1132</td>\n",
       "    </tr>\n",
       "    <tr>\n",
       "      <td>16</td>\n",
       "      <td>Transport</td>\n",
       "      <td>Female</td>\n",
       "      <td>7382</td>\n",
       "    </tr>\n",
       "    <tr>\n",
       "      <td>17</td>\n",
       "      <td>Transport</td>\n",
       "      <td>Male</td>\n",
       "      <td>23142</td>\n",
       "    </tr>\n",
       "    <tr>\n",
       "      <td>18</td>\n",
       "      <td>Treasury</td>\n",
       "      <td>Female</td>\n",
       "      <td>917</td>\n",
       "    </tr>\n",
       "    <tr>\n",
       "      <td>19</td>\n",
       "      <td>Treasury</td>\n",
       "      <td>Male</td>\n",
       "      <td>602</td>\n",
       "    </tr>\n",
       "  </tbody>\n",
       "</table>\n",
       "</div>"
      ],
      "text/plain": [
       "                          Cluster  Gender  Headcount\n",
       "0                       Education  Female      83603\n",
       "1                       Education    Male      24851\n",
       "2     Family & Community Services  Female       8267\n",
       "3     Family & Community Services    Male       2409\n",
       "4   Finance Services & Innovation  Female       5062\n",
       "5   Finance Services & Innovation    Male       3456\n",
       "6                          Health  Female     108662\n",
       "7                          Health    Male      37650\n",
       "8                        Industry  Female       6438\n",
       "9                        Industry    Male       5764\n",
       "10                        Justice  Female      18975\n",
       "11                        Justice    Male      28523\n",
       "12         Planning & Environment  Female       5065\n",
       "13         Planning & Environment    Male       5882\n",
       "14              Premier & Cabinet  Female       1678\n",
       "15              Premier & Cabinet    Male       1132\n",
       "16                      Transport  Female       7382\n",
       "17                      Transport    Male      23142\n",
       "18                       Treasury  Female        917\n",
       "19                       Treasury    Male        602"
      ]
     },
     "execution_count": 331,
     "metadata": {},
     "output_type": "execute_result"
    }
   ],
   "source": [
    "testdf2"
   ]
  },
  {
   "cell_type": "code",
   "execution_count": 332,
   "metadata": {},
   "outputs": [
    {
     "data": {
      "text/html": [
       "<div>\n",
       "<style scoped>\n",
       "    .dataframe tbody tr th:only-of-type {\n",
       "        vertical-align: middle;\n",
       "    }\n",
       "\n",
       "    .dataframe tbody tr th {\n",
       "        vertical-align: top;\n",
       "    }\n",
       "\n",
       "    .dataframe thead th {\n",
       "        text-align: right;\n",
       "    }\n",
       "</style>\n",
       "<table border=\"1\" class=\"dataframe\">\n",
       "  <thead>\n",
       "    <tr style=\"text-align: right;\">\n",
       "      <th></th>\n",
       "      <th>Cluster</th>\n",
       "      <th>Year</th>\n",
       "      <th>Gender</th>\n",
       "      <th>Headcount</th>\n",
       "    </tr>\n",
       "  </thead>\n",
       "  <tbody>\n",
       "    <tr>\n",
       "      <td>0</td>\n",
       "      <td>Education</td>\n",
       "      <td>2014</td>\n",
       "      <td>Female</td>\n",
       "      <td>77475</td>\n",
       "    </tr>\n",
       "    <tr>\n",
       "      <td>1</td>\n",
       "      <td>Education</td>\n",
       "      <td>2014</td>\n",
       "      <td>Male</td>\n",
       "      <td>24256</td>\n",
       "    </tr>\n",
       "    <tr>\n",
       "      <td>2</td>\n",
       "      <td>Education</td>\n",
       "      <td>2015</td>\n",
       "      <td>Female</td>\n",
       "      <td>78006</td>\n",
       "    </tr>\n",
       "    <tr>\n",
       "      <td>3</td>\n",
       "      <td>Education</td>\n",
       "      <td>2015</td>\n",
       "      <td>Male</td>\n",
       "      <td>23424</td>\n",
       "    </tr>\n",
       "    <tr>\n",
       "      <td>4</td>\n",
       "      <td>Education</td>\n",
       "      <td>2016</td>\n",
       "      <td>Female</td>\n",
       "      <td>81406</td>\n",
       "    </tr>\n",
       "    <tr>\n",
       "      <td>...</td>\n",
       "      <td>...</td>\n",
       "      <td>...</td>\n",
       "      <td>...</td>\n",
       "      <td>...</td>\n",
       "    </tr>\n",
       "    <tr>\n",
       "      <td>95</td>\n",
       "      <td>Treasury</td>\n",
       "      <td>2016</td>\n",
       "      <td>Male</td>\n",
       "      <td>716</td>\n",
       "    </tr>\n",
       "    <tr>\n",
       "      <td>96</td>\n",
       "      <td>Treasury</td>\n",
       "      <td>2017</td>\n",
       "      <td>Female</td>\n",
       "      <td>828</td>\n",
       "    </tr>\n",
       "    <tr>\n",
       "      <td>97</td>\n",
       "      <td>Treasury</td>\n",
       "      <td>2017</td>\n",
       "      <td>Male</td>\n",
       "      <td>550</td>\n",
       "    </tr>\n",
       "    <tr>\n",
       "      <td>98</td>\n",
       "      <td>Treasury</td>\n",
       "      <td>2018</td>\n",
       "      <td>Female</td>\n",
       "      <td>917</td>\n",
       "    </tr>\n",
       "    <tr>\n",
       "      <td>99</td>\n",
       "      <td>Treasury</td>\n",
       "      <td>2018</td>\n",
       "      <td>Male</td>\n",
       "      <td>602</td>\n",
       "    </tr>\n",
       "  </tbody>\n",
       "</table>\n",
       "<p>100 rows × 4 columns</p>\n",
       "</div>"
      ],
      "text/plain": [
       "      Cluster  Year  Gender  Headcount\n",
       "0   Education  2014  Female      77475\n",
       "1   Education  2014    Male      24256\n",
       "2   Education  2015  Female      78006\n",
       "3   Education  2015    Male      23424\n",
       "4   Education  2016  Female      81406\n",
       "..        ...   ...     ...        ...\n",
       "95   Treasury  2016    Male        716\n",
       "96   Treasury  2017  Female        828\n",
       "97   Treasury  2017    Male        550\n",
       "98   Treasury  2018  Female        917\n",
       "99   Treasury  2018    Male        602\n",
       "\n",
       "[100 rows x 4 columns]"
      ]
     },
     "execution_count": 332,
     "metadata": {},
     "output_type": "execute_result"
    }
   ],
   "source": [
    "testdf"
   ]
  },
  {
   "cell_type": "code",
   "execution_count": 333,
   "metadata": {},
   "outputs": [],
   "source": [
    "statsdf = pd.DataFrame(columns=['Cluster','Male','Female','% Male','% Female'])\n",
    "clusters = testdf['Cluster'].unique()"
   ]
  },
  {
   "cell_type": "code",
   "execution_count": 334,
   "metadata": {},
   "outputs": [],
   "source": [
    "n=0\n",
    "nn=0\n",
    "for i in range(len(data['Cluster'].unique())):\n",
    "    for j in range(1):\n",
    "        if int(testdf.iloc[n,3:4]) < int(testdf.iloc[n+8,3:4]):\n",
    "            statsdf.loc[i,0:1] = clusters[nn]\n",
    "            statsdf.loc[i,2:3] = 'Increasing'\n",
    "\n",
    "        else:\n",
    "            statsdf.loc[i,0:1] = clusters[nn]\n",
    "            statsdf.loc[i,2:3] = 'Decreasing'\n",
    "\n",
    "        \n",
    "        if int(testdf.iloc[n+1,3:4]) < int(testdf.iloc[n+9,3:4]):\n",
    "                statsdf.loc[i,1:2] = 'Increasing'\n",
    "        else:\n",
    "                statsdf.loc[i,1:2] = 'Decreasing'\n",
    "    n = n + 10 \n",
    "    nn=nn+1\n",
    "\n",
    "p=0\n",
    "n=1\n",
    "k=0\n",
    "for i in range(10):\n",
    "    for j in range(1):\n",
    "        statsdf.loc[p,4:5] = int(testdf2.iloc[k,2:3])/int(testdf2.iloc[k,2:3]+testdf2.iloc[k+n,2:3])*100\n",
    "        statsdf.loc[p,3:4] = int(testdf2.iloc[k+n,2:3])/int(testdf2.iloc[k,2:3]+testdf2.iloc[k+n,2:3])*100\n",
    "    p=p+1\n",
    "    #n=n+1\n",
    "    k=k+2\n"
   ]
  },
  {
   "cell_type": "code",
   "execution_count": 335,
   "metadata": {},
   "outputs": [
    {
     "data": {
      "text/html": [
       "<div>\n",
       "<style scoped>\n",
       "    .dataframe tbody tr th:only-of-type {\n",
       "        vertical-align: middle;\n",
       "    }\n",
       "\n",
       "    .dataframe tbody tr th {\n",
       "        vertical-align: top;\n",
       "    }\n",
       "\n",
       "    .dataframe thead th {\n",
       "        text-align: right;\n",
       "    }\n",
       "</style>\n",
       "<table border=\"1\" class=\"dataframe\">\n",
       "  <thead>\n",
       "    <tr style=\"text-align: right;\">\n",
       "      <th></th>\n",
       "      <th>Cluster</th>\n",
       "      <th>Male</th>\n",
       "      <th>Female</th>\n",
       "      <th>% Male</th>\n",
       "      <th>% Female</th>\n",
       "    </tr>\n",
       "  </thead>\n",
       "  <tbody>\n",
       "    <tr>\n",
       "      <td>0</td>\n",
       "      <td>Education</td>\n",
       "      <td>Increasing</td>\n",
       "      <td>Increasing</td>\n",
       "      <td>22.9139</td>\n",
       "      <td>77.0861</td>\n",
       "    </tr>\n",
       "    <tr>\n",
       "      <td>1</td>\n",
       "      <td>Family &amp; Community Services</td>\n",
       "      <td>Decreasing</td>\n",
       "      <td>Decreasing</td>\n",
       "      <td>22.5646</td>\n",
       "      <td>77.4354</td>\n",
       "    </tr>\n",
       "    <tr>\n",
       "      <td>2</td>\n",
       "      <td>Finance Services &amp; Innovation</td>\n",
       "      <td>Decreasing</td>\n",
       "      <td>Increasing</td>\n",
       "      <td>40.5729</td>\n",
       "      <td>59.4271</td>\n",
       "    </tr>\n",
       "    <tr>\n",
       "      <td>3</td>\n",
       "      <td>Health</td>\n",
       "      <td>Increasing</td>\n",
       "      <td>Increasing</td>\n",
       "      <td>25.7327</td>\n",
       "      <td>74.2673</td>\n",
       "    </tr>\n",
       "    <tr>\n",
       "      <td>4</td>\n",
       "      <td>Industry</td>\n",
       "      <td>Decreasing</td>\n",
       "      <td>Decreasing</td>\n",
       "      <td>47.2382</td>\n",
       "      <td>52.7618</td>\n",
       "    </tr>\n",
       "    <tr>\n",
       "      <td>5</td>\n",
       "      <td>Justice</td>\n",
       "      <td>Increasing</td>\n",
       "      <td>Increasing</td>\n",
       "      <td>60.0509</td>\n",
       "      <td>39.9491</td>\n",
       "    </tr>\n",
       "    <tr>\n",
       "      <td>6</td>\n",
       "      <td>Planning &amp; Environment</td>\n",
       "      <td>Increasing</td>\n",
       "      <td>Increasing</td>\n",
       "      <td>53.7316</td>\n",
       "      <td>46.2684</td>\n",
       "    </tr>\n",
       "    <tr>\n",
       "      <td>7</td>\n",
       "      <td>Premier &amp; Cabinet</td>\n",
       "      <td>Increasing</td>\n",
       "      <td>Increasing</td>\n",
       "      <td>40.2847</td>\n",
       "      <td>59.7153</td>\n",
       "    </tr>\n",
       "    <tr>\n",
       "      <td>8</td>\n",
       "      <td>Transport</td>\n",
       "      <td>Increasing</td>\n",
       "      <td>Increasing</td>\n",
       "      <td>75.8158</td>\n",
       "      <td>24.1842</td>\n",
       "    </tr>\n",
       "    <tr>\n",
       "      <td>9</td>\n",
       "      <td>Treasury</td>\n",
       "      <td>Decreasing</td>\n",
       "      <td>Decreasing</td>\n",
       "      <td>39.6313</td>\n",
       "      <td>60.3687</td>\n",
       "    </tr>\n",
       "  </tbody>\n",
       "</table>\n",
       "</div>"
      ],
      "text/plain": [
       "                         Cluster        Male      Female   % Male % Female\n",
       "0                      Education  Increasing  Increasing  22.9139  77.0861\n",
       "1    Family & Community Services  Decreasing  Decreasing  22.5646  77.4354\n",
       "2  Finance Services & Innovation  Decreasing  Increasing  40.5729  59.4271\n",
       "3                         Health  Increasing  Increasing  25.7327  74.2673\n",
       "4                       Industry  Decreasing  Decreasing  47.2382  52.7618\n",
       "5                        Justice  Increasing  Increasing  60.0509  39.9491\n",
       "6         Planning & Environment  Increasing  Increasing  53.7316  46.2684\n",
       "7              Premier & Cabinet  Increasing  Increasing  40.2847  59.7153\n",
       "8                      Transport  Increasing  Increasing  75.8158  24.1842\n",
       "9                       Treasury  Decreasing  Decreasing  39.6313  60.3687"
      ]
     },
     "execution_count": 335,
     "metadata": {},
     "output_type": "execute_result"
    }
   ],
   "source": [
    "statsdf"
   ]
  },
  {
   "cell_type": "code",
   "execution_count": 310,
   "metadata": {},
   "outputs": [],
   "source": [
    "sectorchange = data[data['PT/FT']=='Part-time']\n",
    "sectorchange = data.groupby(['Cluster','Year'],as_index=False)['Headcount'].sum()\n",
    "sectorchange.columns = ['Cluster','Year','Headcount']"
   ]
  },
  {
   "cell_type": "code",
   "execution_count": 311,
   "metadata": {},
   "outputs": [
    {
     "data": {
      "text/html": [
       "<div>\n",
       "<style scoped>\n",
       "    .dataframe tbody tr th:only-of-type {\n",
       "        vertical-align: middle;\n",
       "    }\n",
       "\n",
       "    .dataframe tbody tr th {\n",
       "        vertical-align: top;\n",
       "    }\n",
       "\n",
       "    .dataframe thead th {\n",
       "        text-align: right;\n",
       "    }\n",
       "</style>\n",
       "<table border=\"1\" class=\"dataframe\">\n",
       "  <thead>\n",
       "    <tr style=\"text-align: right;\">\n",
       "      <th></th>\n",
       "      <th>Cluster</th>\n",
       "      <th>Year</th>\n",
       "      <th>Headcount</th>\n",
       "    </tr>\n",
       "  </thead>\n",
       "  <tbody>\n",
       "    <tr>\n",
       "      <td>0</td>\n",
       "      <td>Education</td>\n",
       "      <td>2014</td>\n",
       "      <td>101731</td>\n",
       "    </tr>\n",
       "    <tr>\n",
       "      <td>1</td>\n",
       "      <td>Education</td>\n",
       "      <td>2015</td>\n",
       "      <td>101430</td>\n",
       "    </tr>\n",
       "    <tr>\n",
       "      <td>2</td>\n",
       "      <td>Education</td>\n",
       "      <td>2016</td>\n",
       "      <td>105238</td>\n",
       "    </tr>\n",
       "    <tr>\n",
       "      <td>3</td>\n",
       "      <td>Education</td>\n",
       "      <td>2017</td>\n",
       "      <td>106928</td>\n",
       "    </tr>\n",
       "    <tr>\n",
       "      <td>4</td>\n",
       "      <td>Education</td>\n",
       "      <td>2018</td>\n",
       "      <td>108454</td>\n",
       "    </tr>\n",
       "    <tr>\n",
       "      <td>5</td>\n",
       "      <td>Family &amp; Community Services</td>\n",
       "      <td>2014</td>\n",
       "      <td>20656</td>\n",
       "    </tr>\n",
       "    <tr>\n",
       "      <td>6</td>\n",
       "      <td>Family &amp; Community Services</td>\n",
       "      <td>2015</td>\n",
       "      <td>20351</td>\n",
       "    </tr>\n",
       "    <tr>\n",
       "      <td>7</td>\n",
       "      <td>Family &amp; Community Services</td>\n",
       "      <td>2016</td>\n",
       "      <td>15885</td>\n",
       "    </tr>\n",
       "    <tr>\n",
       "      <td>8</td>\n",
       "      <td>Family &amp; Community Services</td>\n",
       "      <td>2017</td>\n",
       "      <td>15514</td>\n",
       "    </tr>\n",
       "    <tr>\n",
       "      <td>9</td>\n",
       "      <td>Family &amp; Community Services</td>\n",
       "      <td>2018</td>\n",
       "      <td>10676</td>\n",
       "    </tr>\n",
       "    <tr>\n",
       "      <td>10</td>\n",
       "      <td>Finance Services &amp; Innovation</td>\n",
       "      <td>2014</td>\n",
       "      <td>7638</td>\n",
       "    </tr>\n",
       "    <tr>\n",
       "      <td>11</td>\n",
       "      <td>Finance Services &amp; Innovation</td>\n",
       "      <td>2015</td>\n",
       "      <td>8436</td>\n",
       "    </tr>\n",
       "    <tr>\n",
       "      <td>12</td>\n",
       "      <td>Finance Services &amp; Innovation</td>\n",
       "      <td>2016</td>\n",
       "      <td>8383</td>\n",
       "    </tr>\n",
       "    <tr>\n",
       "      <td>13</td>\n",
       "      <td>Finance Services &amp; Innovation</td>\n",
       "      <td>2017</td>\n",
       "      <td>8518</td>\n",
       "    </tr>\n",
       "    <tr>\n",
       "      <td>14</td>\n",
       "      <td>Finance Services &amp; Innovation</td>\n",
       "      <td>2018</td>\n",
       "      <td>8518</td>\n",
       "    </tr>\n",
       "    <tr>\n",
       "      <td>15</td>\n",
       "      <td>Health</td>\n",
       "      <td>2014</td>\n",
       "      <td>135970</td>\n",
       "    </tr>\n",
       "    <tr>\n",
       "      <td>16</td>\n",
       "      <td>Health</td>\n",
       "      <td>2015</td>\n",
       "      <td>138087</td>\n",
       "    </tr>\n",
       "    <tr>\n",
       "      <td>17</td>\n",
       "      <td>Health</td>\n",
       "      <td>2016</td>\n",
       "      <td>139982</td>\n",
       "    </tr>\n",
       "    <tr>\n",
       "      <td>18</td>\n",
       "      <td>Health</td>\n",
       "      <td>2017</td>\n",
       "      <td>141911</td>\n",
       "    </tr>\n",
       "    <tr>\n",
       "      <td>19</td>\n",
       "      <td>Health</td>\n",
       "      <td>2018</td>\n",
       "      <td>146312</td>\n",
       "    </tr>\n",
       "    <tr>\n",
       "      <td>20</td>\n",
       "      <td>Industry</td>\n",
       "      <td>2014</td>\n",
       "      <td>28239</td>\n",
       "    </tr>\n",
       "    <tr>\n",
       "      <td>21</td>\n",
       "      <td>Industry</td>\n",
       "      <td>2015</td>\n",
       "      <td>17134</td>\n",
       "    </tr>\n",
       "    <tr>\n",
       "      <td>22</td>\n",
       "      <td>Industry</td>\n",
       "      <td>2016</td>\n",
       "      <td>16565</td>\n",
       "    </tr>\n",
       "    <tr>\n",
       "      <td>23</td>\n",
       "      <td>Industry</td>\n",
       "      <td>2017</td>\n",
       "      <td>16194</td>\n",
       "    </tr>\n",
       "    <tr>\n",
       "      <td>24</td>\n",
       "      <td>Industry</td>\n",
       "      <td>2018</td>\n",
       "      <td>12202</td>\n",
       "    </tr>\n",
       "    <tr>\n",
       "      <td>25</td>\n",
       "      <td>Justice</td>\n",
       "      <td>2014</td>\n",
       "      <td>44602</td>\n",
       "    </tr>\n",
       "    <tr>\n",
       "      <td>26</td>\n",
       "      <td>Justice</td>\n",
       "      <td>2015</td>\n",
       "      <td>45473</td>\n",
       "    </tr>\n",
       "    <tr>\n",
       "      <td>27</td>\n",
       "      <td>Justice</td>\n",
       "      <td>2016</td>\n",
       "      <td>45631</td>\n",
       "    </tr>\n",
       "    <tr>\n",
       "      <td>28</td>\n",
       "      <td>Justice</td>\n",
       "      <td>2017</td>\n",
       "      <td>46001</td>\n",
       "    </tr>\n",
       "    <tr>\n",
       "      <td>29</td>\n",
       "      <td>Justice</td>\n",
       "      <td>2018</td>\n",
       "      <td>47498</td>\n",
       "    </tr>\n",
       "    <tr>\n",
       "      <td>30</td>\n",
       "      <td>Planning &amp; Environment</td>\n",
       "      <td>2014</td>\n",
       "      <td>9772</td>\n",
       "    </tr>\n",
       "    <tr>\n",
       "      <td>31</td>\n",
       "      <td>Planning &amp; Environment</td>\n",
       "      <td>2015</td>\n",
       "      <td>9662</td>\n",
       "    </tr>\n",
       "    <tr>\n",
       "      <td>32</td>\n",
       "      <td>Planning &amp; Environment</td>\n",
       "      <td>2016</td>\n",
       "      <td>9841</td>\n",
       "    </tr>\n",
       "    <tr>\n",
       "      <td>33</td>\n",
       "      <td>Planning &amp; Environment</td>\n",
       "      <td>2017</td>\n",
       "      <td>10636</td>\n",
       "    </tr>\n",
       "    <tr>\n",
       "      <td>34</td>\n",
       "      <td>Planning &amp; Environment</td>\n",
       "      <td>2018</td>\n",
       "      <td>10947</td>\n",
       "    </tr>\n",
       "    <tr>\n",
       "      <td>35</td>\n",
       "      <td>Premier &amp; Cabinet</td>\n",
       "      <td>2014</td>\n",
       "      <td>2063</td>\n",
       "    </tr>\n",
       "    <tr>\n",
       "      <td>36</td>\n",
       "      <td>Premier &amp; Cabinet</td>\n",
       "      <td>2015</td>\n",
       "      <td>2084</td>\n",
       "    </tr>\n",
       "    <tr>\n",
       "      <td>37</td>\n",
       "      <td>Premier &amp; Cabinet</td>\n",
       "      <td>2016</td>\n",
       "      <td>2410</td>\n",
       "    </tr>\n",
       "    <tr>\n",
       "      <td>38</td>\n",
       "      <td>Premier &amp; Cabinet</td>\n",
       "      <td>2017</td>\n",
       "      <td>2588</td>\n",
       "    </tr>\n",
       "    <tr>\n",
       "      <td>39</td>\n",
       "      <td>Premier &amp; Cabinet</td>\n",
       "      <td>2018</td>\n",
       "      <td>2810</td>\n",
       "    </tr>\n",
       "    <tr>\n",
       "      <td>40</td>\n",
       "      <td>Transport</td>\n",
       "      <td>2014</td>\n",
       "      <td>29759</td>\n",
       "    </tr>\n",
       "    <tr>\n",
       "      <td>41</td>\n",
       "      <td>Transport</td>\n",
       "      <td>2015</td>\n",
       "      <td>30104</td>\n",
       "    </tr>\n",
       "    <tr>\n",
       "      <td>42</td>\n",
       "      <td>Transport</td>\n",
       "      <td>2016</td>\n",
       "      <td>29555</td>\n",
       "    </tr>\n",
       "    <tr>\n",
       "      <td>43</td>\n",
       "      <td>Transport</td>\n",
       "      <td>2017</td>\n",
       "      <td>30129</td>\n",
       "    </tr>\n",
       "    <tr>\n",
       "      <td>44</td>\n",
       "      <td>Transport</td>\n",
       "      <td>2018</td>\n",
       "      <td>30524</td>\n",
       "    </tr>\n",
       "    <tr>\n",
       "      <td>45</td>\n",
       "      <td>Treasury</td>\n",
       "      <td>2014</td>\n",
       "      <td>1955</td>\n",
       "    </tr>\n",
       "    <tr>\n",
       "      <td>46</td>\n",
       "      <td>Treasury</td>\n",
       "      <td>2015</td>\n",
       "      <td>2026</td>\n",
       "    </tr>\n",
       "    <tr>\n",
       "      <td>47</td>\n",
       "      <td>Treasury</td>\n",
       "      <td>2016</td>\n",
       "      <td>1917</td>\n",
       "    </tr>\n",
       "    <tr>\n",
       "      <td>48</td>\n",
       "      <td>Treasury</td>\n",
       "      <td>2017</td>\n",
       "      <td>1378</td>\n",
       "    </tr>\n",
       "    <tr>\n",
       "      <td>49</td>\n",
       "      <td>Treasury</td>\n",
       "      <td>2018</td>\n",
       "      <td>1519</td>\n",
       "    </tr>\n",
       "  </tbody>\n",
       "</table>\n",
       "</div>"
      ],
      "text/plain": [
       "                          Cluster  Year  Headcount\n",
       "0                       Education  2014     101731\n",
       "1                       Education  2015     101430\n",
       "2                       Education  2016     105238\n",
       "3                       Education  2017     106928\n",
       "4                       Education  2018     108454\n",
       "5     Family & Community Services  2014      20656\n",
       "6     Family & Community Services  2015      20351\n",
       "7     Family & Community Services  2016      15885\n",
       "8     Family & Community Services  2017      15514\n",
       "9     Family & Community Services  2018      10676\n",
       "10  Finance Services & Innovation  2014       7638\n",
       "11  Finance Services & Innovation  2015       8436\n",
       "12  Finance Services & Innovation  2016       8383\n",
       "13  Finance Services & Innovation  2017       8518\n",
       "14  Finance Services & Innovation  2018       8518\n",
       "15                         Health  2014     135970\n",
       "16                         Health  2015     138087\n",
       "17                         Health  2016     139982\n",
       "18                         Health  2017     141911\n",
       "19                         Health  2018     146312\n",
       "20                       Industry  2014      28239\n",
       "21                       Industry  2015      17134\n",
       "22                       Industry  2016      16565\n",
       "23                       Industry  2017      16194\n",
       "24                       Industry  2018      12202\n",
       "25                        Justice  2014      44602\n",
       "26                        Justice  2015      45473\n",
       "27                        Justice  2016      45631\n",
       "28                        Justice  2017      46001\n",
       "29                        Justice  2018      47498\n",
       "30         Planning & Environment  2014       9772\n",
       "31         Planning & Environment  2015       9662\n",
       "32         Planning & Environment  2016       9841\n",
       "33         Planning & Environment  2017      10636\n",
       "34         Planning & Environment  2018      10947\n",
       "35              Premier & Cabinet  2014       2063\n",
       "36              Premier & Cabinet  2015       2084\n",
       "37              Premier & Cabinet  2016       2410\n",
       "38              Premier & Cabinet  2017       2588\n",
       "39              Premier & Cabinet  2018       2810\n",
       "40                      Transport  2014      29759\n",
       "41                      Transport  2015      30104\n",
       "42                      Transport  2016      29555\n",
       "43                      Transport  2017      30129\n",
       "44                      Transport  2018      30524\n",
       "45                       Treasury  2014       1955\n",
       "46                       Treasury  2015       2026\n",
       "47                       Treasury  2016       1917\n",
       "48                       Treasury  2017       1378\n",
       "49                       Treasury  2018       1519"
      ]
     },
     "execution_count": 311,
     "metadata": {},
     "output_type": "execute_result"
    }
   ],
   "source": [
    "sectorchange"
   ]
  },
  {
   "cell_type": "code",
   "execution_count": null,
   "metadata": {},
   "outputs": [],
   "source": []
  },
  {
   "cell_type": "code",
   "execution_count": 312,
   "metadata": {},
   "outputs": [],
   "source": [
    "change_df = {\n",
    "    'Sector' : ['Education', 'Family & Community Services','Finance Services & Innovation', 'Health', 'Industry', 'Justice','Planning & Environment', 'Premier & Cabinet', 'Transport','Treasury'],\n",
    "    '% Men ' : []\n",
    "}"
   ]
  },
  {
   "cell_type": "code",
   "execution_count": null,
   "metadata": {},
   "outputs": [],
   "source": []
  },
  {
   "cell_type": "code",
   "execution_count": 313,
   "metadata": {},
   "outputs": [
    {
     "data": {
      "image/png": "[encoded data removed]",
      "text/plain": [
       "<Figure size 432x288 with 1 Axes>"
      ]
     },
     "metadata": {
      "needs_background": "light"
     },
     "output_type": "display_data"
    },
    {
     "data": {
      "image/png": "[encoded data removed]",
      "text/plain": [
       "<Figure size 432x288 with 1 Axes>"
      ]
     },
     "metadata": {
      "needs_background": "light"
     },
     "output_type": "display_data"
    },
    {
     "data": {
      "image/png": "[encoded data removed]",
      "text/plain": [
       "<Figure size 432x288 with 1 Axes>"
      ]
     },
     "metadata": {
      "needs_background": "light"
     },
     "output_type": "display_data"
    },
    {
     "data": {
      "image/png": "[encoded data removed]",
      "text/plain": [
       "<Figure size 432x288 with 1 Axes>"
      ]
     },
     "metadata": {
      "needs_background": "light"
     },
     "output_type": "display_data"
    },
    {
     "data": {
      "image/png": "[encoded data removed]",
      "text/plain": [
       "<Figure size 432x288 with 1 Axes>"
      ]
     },
     "metadata": {
      "needs_background": "light"
     },
     "output_type": "display_data"
    },
    {
     "data": {
      "image/png": "[encoded data removed]",
      "text/plain": [
       "<Figure size 432x288 with 1 Axes>"
      ]
     },
     "metadata": {
      "needs_background": "light"
     },
     "output_type": "display_data"
    },
    {
     "data": {
      "image/png": "[encoded data removed]",
      "text/plain": [
       "<Figure size 432x288 with 1 Axes>"
      ]
     },
     "metadata": {
      "needs_background": "light"
     },
     "output_type": "display_data"
    },
    {
     "data": {
      "image/png": "[encoded data removed]",
      "text/plain": [
       "<Figure size 432x288 with 1 Axes>"
      ]
     },
     "metadata": {
      "needs_background": "light"
     },
     "output_type": "display_data"
    },
    {
     "data": {
      "image/png": "[encoded data removed]",
      "text/plain": [
       "<Figure size 432x288 with 1 Axes>"
      ]
     },
     "metadata": {
      "needs_background": "light"
     },
     "output_type": "display_data"
    },
    {
     "data": {
      "image/png": "[encoded data removed]",
      "text/plain": [
       "<Figure size 432x288 with 1 Axes>"
      ]
     },
     "metadata": {
      "needs_background": "light"
     },
     "output_type": "display_data"
    }
   ],
   "source": [
    "#Change in part-time over the last couple of years\n",
    "n=0\n",
    "for sectors in range(len(sectorchange.Cluster.unique())):\n",
    "        display_df = sectorchange.loc[n:n+4]\n",
    "        fig,ax = plt.subplots()\n",
    "        ax.plot(display_df['Year'], display_df['Headcount'], color='blue', marker=\"^\")\n",
    "        ax.set_xlabel(\"Year\",fontsize=14)\n",
    "        ax.set_ylabel('Count',color='blue',fontsize=14)\n",
    "        t = display_df['Cluster'].unique()\n",
    "        t = listToStr = ' '.join([str(elem) for elem in t]) \n",
    "        plt.title(t)\n",
    "        \n",
    "        n=n+5\n"
   ]
  },
  {
   "cell_type": "code",
   "execution_count": 314,
   "metadata": {},
   "outputs": [
    {
     "data": {
      "text/html": [
       "<div>\n",
       "<style scoped>\n",
       "    .dataframe tbody tr th:only-of-type {\n",
       "        vertical-align: middle;\n",
       "    }\n",
       "\n",
       "    .dataframe tbody tr th {\n",
       "        vertical-align: top;\n",
       "    }\n",
       "\n",
       "    .dataframe thead th {\n",
       "        text-align: right;\n",
       "    }\n",
       "</style>\n",
       "<table border=\"1\" class=\"dataframe\">\n",
       "  <thead>\n",
       "    <tr style=\"text-align: right;\">\n",
       "      <th></th>\n",
       "      <th>Cluster</th>\n",
       "      <th>Year</th>\n",
       "      <th>Headcount</th>\n",
       "    </tr>\n",
       "  </thead>\n",
       "  <tbody>\n",
       "    <tr>\n",
       "      <td>0</td>\n",
       "      <td>Education</td>\n",
       "      <td>2014</td>\n",
       "      <td>101731</td>\n",
       "    </tr>\n",
       "    <tr>\n",
       "      <td>1</td>\n",
       "      <td>Education</td>\n",
       "      <td>2015</td>\n",
       "      <td>101430</td>\n",
       "    </tr>\n",
       "    <tr>\n",
       "      <td>2</td>\n",
       "      <td>Education</td>\n",
       "      <td>2016</td>\n",
       "      <td>105238</td>\n",
       "    </tr>\n",
       "    <tr>\n",
       "      <td>3</td>\n",
       "      <td>Education</td>\n",
       "      <td>2017</td>\n",
       "      <td>106928</td>\n",
       "    </tr>\n",
       "    <tr>\n",
       "      <td>4</td>\n",
       "      <td>Education</td>\n",
       "      <td>2018</td>\n",
       "      <td>108454</td>\n",
       "    </tr>\n",
       "  </tbody>\n",
       "</table>\n",
       "</div>"
      ],
      "text/plain": [
       "     Cluster  Year  Headcount\n",
       "0  Education  2014     101731\n",
       "1  Education  2015     101430\n",
       "2  Education  2016     105238\n",
       "3  Education  2017     106928\n",
       "4  Education  2018     108454"
      ]
     },
     "execution_count": 314,
     "metadata": {},
     "output_type": "execute_result"
    }
   ],
   "source": [
    "display_df = sectorchange.loc[0:4]\n",
    "display_df"
   ]
  },
  {
   "cell_type": "markdown",
   "metadata": {},
   "source": [
    "## Predictions"
   ]
  },
  {
   "cell_type": "code",
   "execution_count": 315,
   "metadata": {},
   "outputs": [],
   "source": [
    "from statsmodels.tsa.arima_model import ARIMA\n",
    "from sklearn.metrics import mean_squared_error"
   ]
  },
  {
   "cell_type": "code",
   "execution_count": 316,
   "metadata": {},
   "outputs": [],
   "source": [
    "data_frame_list = [trend_ftmaledata,trend_ftfemaledata,trend_ptmaledata,trend_ptfemaledata]\n",
    "future_years = [2019,2020,2021,2022,2023,2024,2025]\n",
    "titles = [\"Fulltime Male Employee Prediction\",\"Fulltime Female Employee Prediction\",\"Part-time Male Employee Prediction\",\"Part-time Female Employee Prediction\"]"
   ]
  },
  {
   "cell_type": "code",
   "execution_count": 317,
   "metadata": {},
   "outputs": [
    {
     "name": "stderr",
     "output_type": "stream",
     "text": [
      "C:\\Users\\deepc\\Anaconda3\\lib\\site-packages\\statsmodels\\tsa\\kalmanf\\kalmanfilter.py:221: RuntimeWarning: divide by zero encountered in true_divide\n",
      "  Z_mat, R_mat, T_mat)\n"
     ]
    },
    {
     "data": {
      "image/png": "[encoded data removed]",
      "text/plain": [
       "<Figure size 432x288 with 1 Axes>"
      ]
     },
     "metadata": {
      "needs_background": "light"
     },
     "output_type": "display_data"
    },
    {
     "data": {
      "image/png": "[encoded data removed]",
      "text/plain": [
       "<Figure size 432x288 with 1 Axes>"
      ]
     },
     "metadata": {
      "needs_background": "light"
     },
     "output_type": "display_data"
    },
    {
     "data": {
      "image/png": "[encoded data removed]",
      "text/plain": [
       "<Figure size 432x288 with 1 Axes>"
      ]
     },
     "metadata": {
      "needs_background": "light"
     },
     "output_type": "display_data"
    },
    {
     "data": {
      "image/png": "[encoded data removed]",
      "text/plain": [
       "<Figure size 432x288 with 1 Axes>"
      ]
     },
     "metadata": {
      "needs_background": "light"
     },
     "output_type": "display_data"
    }
   ],
   "source": [
    "f=0\n",
    "for i in range(0,4):\n",
    "    df = 0\n",
    "    counts = 0\n",
    "    df = data_frame_list[i]\n",
    "    counts = df['Headcount'].to_list()\n",
    "    model_arima=ARIMA(counts,(1,2,0))\n",
    "    model_arima_fit=model_arima.fit()\n",
    "    prediction_arima=model_arima_fit.forecast(7)[0]\n",
    "    #print(prediction_arima)\n",
    "    n = 1\n",
    "    for k in range(len(future_years)):\n",
    "        df.loc[4+n,'Year'] = future_years[k]\n",
    "        df.loc[4+n,'Headcount'] = int(prediction_arima[k])\n",
    "        n=n+1\n",
    "    #print(df)\n",
    "    if(f%2==0):\n",
    "        gen = 'Male'\n",
    "        col = \"red\"\n",
    "    else:\n",
    "        gen = 'Female'\n",
    "        col = \"blue\"\n",
    "    fig,ax = plt.subplots()\n",
    "    ax.plot(df['Year'], df['Headcount'], color=col, marker=\"o\")\n",
    "    ax.set_xlabel(\"year\",fontsize=14)\n",
    "    ax.set_ylabel(gen + \" \"+ \"Emp\",color=col,fontsize=14)\n",
    "    plt.title(titles[i])\n",
    "    f=f+1\n"
   ]
  },
  {
   "cell_type": "code",
   "execution_count": null,
   "metadata": {},
   "outputs": [],
   "source": []
  },
  {
   "cell_type": "code",
   "execution_count": null,
   "metadata": {},
   "outputs": [],
   "source": []
  },
  {
   "cell_type": "code",
   "execution_count": null,
   "metadata": {
    "collapsed": true
   },
   "outputs": [],
   "source": []
  }
 ],
 "metadata": {
  "kernelspec": {
   "display_name": "Python 3",
   "language": "python",
   "name": "python3"
  },
  "language_info": {
   "codemirror_mode": {
    "name": "ipython",
    "version": 3
   },
   "file_extension": ".py",
   "mimetype": "text/x-python",
   "name": "python",
   "nbconvert_exporter": "python",
   "pygments_lexer": "ipython3",
   "version": "3.7.4"
  }
 },
 "nbformat": 4,
 "nbformat_minor": 2
}
